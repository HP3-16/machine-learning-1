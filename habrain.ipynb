{
 "cells": [
  {
   "cell_type": "code",
   "execution_count": 6,
   "metadata": {},
   "outputs": [],
   "source": [
    "class Nugget:\n",
    "    def __init__(self,value,children_=(),op_ = '',label=''):\n",
    "        self.value = value\n",
    "        self.grad = 0.0 # initialize grad = 0\n",
    "        self.prev = set(children_)\n",
    "        self.op_ = op_\n",
    "        self.label = label\n",
    "    \n",
    "    def __repr__(self):\n",
    "        return f\"Nugget(value={self.value})\"\n",
    "    \n",
    "    def __add__(self,other):\n",
    "        return Nugget(self.value+other.value, (self,other),'+')\n",
    "    \n",
    "    def __mul__(self,other):\n",
    "        return Nugget(self.value*other.value, (self,other),'*')"
   ]
  },
  {
   "cell_type": "code",
   "execution_count": 14,
   "metadata": {},
   "outputs": [
    {
     "name": "stdout",
     "output_type": "stream",
     "text": [
      "Nugget(value=100)\n"
     ]
    }
   ],
   "source": [
    "a = Nugget(5,label='a')\n",
    "b = Nugget(20,label='b')\n",
    "d = a*b;d.label = 'd'\n",
    "print(d)"
   ]
  },
  {
   "cell_type": "code",
   "execution_count": null,
   "metadata": {},
   "outputs": [],
   "source": []
  },
  {
   "cell_type": "code",
   "execution_count": null,
   "metadata": {},
   "outputs": [],
   "source": []
  }
 ],
 "metadata": {
  "kernelspec": {
   "display_name": "Python 3",
   "language": "python",
   "name": "python3"
  },
  "language_info": {
   "codemirror_mode": {
    "name": "ipython",
    "version": 3
   },
   "file_extension": ".py",
   "mimetype": "text/x-python",
   "name": "python",
   "nbconvert_exporter": "python",
   "pygments_lexer": "ipython3",
   "version": "3.10.0"
  },
  "orig_nbformat": 4
 },
 "nbformat": 4,
 "nbformat_minor": 2
}
